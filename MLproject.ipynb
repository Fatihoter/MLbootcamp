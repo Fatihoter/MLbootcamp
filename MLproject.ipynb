{
 "cells": [
  {
   "cell_type": "markdown",
   "id": "286dffe6872e744c",
   "metadata": {},
   "source": [
    "**PROJECT INTRODUCTION AND GENERAL OVERVIEW**\n",
    "\n",
    "MACHINE LEARNING\n",
    "Machine Learning is a branch of artificial intelligence that enables computer systems to learn from data and perform specific tasks by discovering complex relationships, recognizing patterns, and making predictions about the future through data analysis and modeling. In our project, the focus is on predicting housing prices.\n",
    "\n",
    "**Project Objectives:**\n",
    "- Identify factors influencing housing prices and examine their relationships.\n",
    "- Develop a machine learning model to model and predict these relationships.\n",
    "- Evaluate the performance of the developed model and visualize the results.\n",
    "\n",
    "**Machine Learning Technique Used:**\n",
    "The machine learning technique used in the project is Ridge Regression. Ridge Regression is a regression method used to prevent overfitting by reducing the complexity of the model, particularly effective in high-dimensional datasets, and it shrinks the weights towards zero.\n",
    "\n",
    "**Project Progression:**\n",
    "- Firstly, a dataset containing various factors influencing housing prices was utilized.\n",
    "- The dataset was examined, missing data was filled, and necessary preprocessing steps were taken.\n",
    "- The dataset was split into training and testing sets.\n",
    "- Ridge Regression was chosen as the machine learning model.\n",
    "- Polynomial features were used to enhance the model's performance.\n",
    "- Different polynomial degrees were experimented with to achieve the best results.\n",
    "- Finally, the performance of the model was evaluated, and the relationship between actual and predicted values was visualized.\n",
    "\n",
    "This project serves as an example of how machine learning techniques can be applied to real-world data. Additionally, it demonstrates the development of a model that can be used in various practical applications, such as predicting housing prices.\n",
    "\n",
    "Also you can access this data from this link: https://drive.google.com/file/d/1PJLaGjvpS9I8bUQLig7qp3uk3BF4Fk4C/view?usp=sharing"
   ]
  },
  {
   "cell_type": "code",
   "execution_count": 27,
   "id": "initial_id",
   "metadata": {
    "ExecuteTime": {
     "end_time": "2024-05-03T14:31:17.423669Z",
     "start_time": "2024-05-03T14:31:17.363334Z"
    }
   },
   "outputs": [],
   "source": [
    "# Libraries Imported\n",
    "import numpy as np  # Importing NumPy for numerical computations\n",
    "import pandas as pd  # Importing Pandas for data manipulation\n",
    "from sklearn.model_selection import train_test_split  # For splitting data into training and testing sets\n",
    "from sklearn.pipeline import Pipeline  # For creating a pipeline of data processing steps\n",
    "from sklearn.preprocessing import StandardScaler  # For standardizing features\n",
    "from sklearn.preprocessing import PolynomialFeatures  # For generating polynomial features\n",
    "from sklearn.linear_model import Ridge  # For Ridge Regression model\n",
    "from sklearn.metrics import mean_squared_error, mean_absolute_error  # For evaluating model performance\n",
    "import matplotlib.pyplot as plt  # For data visualization\n"
   ]
  },
  {
   "cell_type": "markdown",
   "id": "5b8392ad6896003b",
   "metadata": {},
   "source": [
    "\n",
    "This part imports the necessary libraries for data manipulation, model creation, evaluation, and visualization.\n",
    "\n"
   ]
  },
  {
   "cell_type": "code",
   "execution_count": 28,
   "id": "7f3e0cb0beb2d81e",
   "metadata": {
    "ExecuteTime": {
     "end_time": "2024-05-03T14:31:17.568034Z",
     "start_time": "2024-05-03T14:31:17.426588Z"
    }
   },
   "outputs": [],
   "source": [
    "# Load the dataset\n",
    "df = pd.read_csv('housing.csv', sep=r'\\s+', header=None, names=['CRIM', 'ZN', 'INDUS', 'CHAS', 'NOX', 'RM', 'AGE', 'DIS', 'RAD', 'TAX', 'PTRATIO', 'B', 'LSTAT', 'MEDV'])\n",
    "# Replace '?' with NaN\n",
    "df.replace('?', np.nan, inplace=True)\n",
    "# Fill missing values with mean\n",
    "df.fillna(df.mean(), inplace=True)\n"
   ]
  },
  {
   "cell_type": "markdown",
   "id": "a42c5d6b730684f2",
   "metadata": {},
   "source": [
    "Here, the dataset is loaded from a CSV file, missing values represented as '?' are replaced with NaN, and the missing values are filled with the mean of each column.\n",
    "\n"
   ]
  },
  {
   "cell_type": "markdown",
   "id": "827e36c11a103b1",
   "metadata": {},
   "source": []
  },
  {
   "cell_type": "code",
   "execution_count": 29,
   "id": "78760d9364d20561",
   "metadata": {
    "ExecuteTime": {
     "end_time": "2024-05-03T14:31:17.584590Z",
     "start_time": "2024-05-03T14:31:17.569033Z"
    }
   },
   "outputs": [],
   "source": [
    "# Splitting the target variable and predictor variables\n",
    "y = df['MEDV']\n",
    "X = df.drop('MEDV', axis=1)\n"
   ]
  },
  {
   "cell_type": "markdown",
   "id": "dcee200bd76f00a4",
   "metadata": {},
   "source": [
    "The dataset is split into predictor variables (X) and the target variable (y).\n",
    "\n"
   ]
  },
  {
   "cell_type": "code",
   "execution_count": 30,
   "id": "bda1dcd3e8a05943",
   "metadata": {
    "ExecuteTime": {
     "end_time": "2024-05-03T14:31:17.616972Z",
     "start_time": "2024-05-03T14:31:17.585591Z"
    }
   },
   "outputs": [],
   "source": [
    "# Train-Test Split\n",
    "# Creating training and test datasets\n",
    "X_train, X_test, y_train, y_test = train_test_split(X, y, test_size=0.25, random_state=42)\n"
   ]
  },
  {
   "cell_type": "markdown",
   "id": "6c868a14af8e8936",
   "metadata": {},
   "source": [
    "The data is split into training and testing sets using the train_test_split function.\n",
    "\n"
   ]
  },
  {
   "cell_type": "code",
   "execution_count": 31,
   "id": "f706f86edefa83d0",
   "metadata": {
    "ExecuteTime": {
     "end_time": "2024-05-03T14:31:17.630121Z",
     "start_time": "2024-05-03T14:31:17.619970Z"
    }
   },
   "outputs": [],
   "source": [
    "# Logarithmic Transformations\n",
    "# Applying logarithmic transformations to features\n",
    "X_train_log = np.log1p(X_train)\n",
    "X_test_log = np.log1p(X_test)\n"
   ]
  },
  {
   "cell_type": "markdown",
   "id": "cb322d545b77ee9e",
   "metadata": {},
   "source": [
    "Logarithmic transformations are applied to the features using the np.log1p function.\n",
    "\n"
   ]
  },
  {
   "cell_type": "code",
   "execution_count": 32,
   "id": "c9671ee357a63897",
   "metadata": {
    "ExecuteTime": {
     "end_time": "2024-05-03T14:31:17.637823Z",
     "start_time": "2024-05-03T14:31:17.631122Z"
    }
   },
   "outputs": [],
   "source": [
    "# Initializing variables to store the best results\n",
    "best_rmse = float('inf')\n",
    "best_degree = 0\n",
    "best_mae = float('inf')\n",
    "best_mse = float('inf')\n",
    "best_y_pred = None\n"
   ]
  },
  {
   "cell_type": "markdown",
   "id": "bb4dc6f19063de16",
   "metadata": {},
   "source": [
    "Variables are initialized to store the best RMSE, degree, MAE, MSE, and predicted values.\n",
    "\n"
   ]
  },
  {
   "cell_type": "code",
   "execution_count": 33,
   "id": "3f97780426373f9",
   "metadata": {
    "ExecuteTime": {
     "end_time": "2024-05-03T14:31:17.852527Z",
     "start_time": "2024-05-03T14:31:17.638822Z"
    }
   },
   "outputs": [
    {
     "name": "stdout",
     "output_type": "stream",
     "text": [
      "Best RMSE: 3.505713611955166\n",
      "Best Degree: 2\n",
      "Best MAE: 2.3317282107573516\n",
      "Best MSE: 12.290027929047737\n"
     ]
    }
   ],
   "source": [
    "# Looping through different polynomial degrees to find the best result\n",
    "for degree in range(1, 6):\n",
    "    # Creating a Ridge regression model\n",
    "    ridge_model = Ridge(alpha=0.1)\n",
    "    # Creating a pipeline\n",
    "    steps = [('scaler', StandardScaler()), ('poly', PolynomialFeatures(degree=degree)), ('model', ridge_model)]\n",
    "    pipeline = Pipeline(steps)\n",
    "    # Training the model and making predictions\n",
    "    pipeline.fit(X_train_log, y_train)\n",
    "    y_pred = pipeline.predict(X_test_log)\n",
    "    # Evaluating the performance\n",
    "    mae = mean_absolute_error(y_test, y_pred)\n",
    "    mse = mean_squared_error(y_test, y_pred)\n",
    "    rmse = np.sqrt(mse)\n",
    "    # Updating the best values\n",
    "    if rmse < best_rmse:\n",
    "        best_rmse = rmse\n",
    "        best_degree = degree\n",
    "        best_mae = mae\n",
    "        best_mse = mse\n",
    "        best_y_pred = y_pred\n",
    "# Printing the best results\n",
    "print(\"Best RMSE:\", best_rmse)\n",
    "print(\"Best Degree:\", best_degree)\n",
    "print(\"Best MAE:\", best_mae)\n",
    "print(\"Best MSE:\", best_mse)\n"
   ]
  },
  {
   "cell_type": "markdown",
   "id": "a0c246c76ecf2a69",
   "metadata": {},
   "source": [
    "This part of the code loops through different polynomial degrees, trains the Ridge regression model using a pipeline, evaluates its performance, and updates the best results.\n",
    "\n"
   ]
  },
  {
   "cell_type": "code",
   "execution_count": 34,
   "id": "be92ca5afbba3c8",
   "metadata": {
    "ExecuteTime": {
     "end_time": "2024-05-03T14:31:18.108455Z",
     "start_time": "2024-05-03T14:31:17.853526Z"
    }
   },
   "outputs": [
    {
     "data": {
      "image/png": "[encoded data removed]",
      "text/plain": [
       "<Figure size 640x480 with 1 Axes>"
      ]
     },
     "metadata": {},
     "output_type": "display_data"
    }
   ],
   "source": [
    "# Visualizing the relationship between actual and predicted values\n",
    "plt.scatter(y_test, best_y_pred)\n",
    "plt.xlabel(\"Actual Values\")\n",
    "plt.ylabel(\"Predicted Values\")\n",
    "plt.title(\"Relationship between Actual and Predicted Values (Degree {})\".format(best_degree))\n",
    "plt.show()\n"
   ]
  },
  {
   "cell_type": "markdown",
   "id": "88d12a0de43ede98",
   "metadata": {},
   "source": [
    "Finally, the relationship between actual and predicted values is visualized using a scatter plot."
   ]
  }
 ],
 "metadata": {
  "kernelspec": {
   "display_name": "Python 3 (ipykernel)",
   "language": "python",
   "name": "python3"
  },
  "language_info": {
   "codemirror_mode": {
    "name": "ipython",
    "version": 3
   },
   "file_extension": ".py",
   "mimetype": "text/x-python",
   "name": "python",
   "nbconvert_exporter": "python",
   "pygments_lexer": "ipython3",
   "version": "3.12.3"
  }
 },
 "nbformat": 4,
 "nbformat_minor": 5
}
